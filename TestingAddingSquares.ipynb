{
 "cells": [
  {
   "cell_type": "markdown",
   "metadata": {},
   "source": [
    "Here is the testing code with variations for adding black squares to the images;"
   ]
  },
  {
   "cell_type": "code",
   "execution_count": 1,
   "metadata": {},
   "outputs": [],
   "source": [
    "from PIL import Image, ImageDraw\n",
    "import random"
   ]
  },
  {
   "cell_type": "markdown",
   "metadata": {},
   "source": [
    "### Adding 3 black squares:"
   ]
  },
  {
   "cell_type": "code",
   "execution_count": 15,
   "metadata": {},
   "outputs": [],
   "source": [
    "def add_black_squares_to_image(image_path, output_path, max_percentage=10, num_squares=3):\n",
    "    \"\"\"\n",
    "    Adding the black squares to a single image for testing.\n",
    "\n",
    "    - image_path: Path to the input image.\n",
    "    - output_path: Path to save the output image.\n",
    "    - max_percentage: Maximum percentage of the image area covered by each square.\n",
    "    - num_squares: Number of black squares to add.\n",
    "    \"\"\"\n",
    "    # opening the image\n",
    "    image = Image.open(image_path)\n",
    "    draw = ImageDraw.Draw(image)\n",
    "    width, height = image.size\n",
    "    max_area = (width * height) * (max_percentage / 100) # Maximum area of a square\n",
    "\n",
    "    for square in range(num_squares):\n",
    "        # we randomly determine the square's size\n",
    "        side_length = int((max_area ** 0.5) * random.uniform(0.5, 1))\n",
    "        \n",
    "        # we randomly determine squares position\n",
    "        x0 = random.randint(0, width - side_length)\n",
    "        y0 = random.randint(0, height - side_length)\n",
    "        x1 = x0 + side_length\n",
    "        y1 = y0 + side_length\n",
    "        \n",
    "        # drawing the black square\n",
    "        draw.rectangle([x0, y0, x1, y1], fill=(0, 0, 0))\n",
    "\n",
    "    # saving the output image\n",
    "    image.save(output_path)\n",
    "    print(f\"Image with black squares saved to {output_path}\")\n",
    "\n",
    "\n"
   ]
  },
  {
   "cell_type": "code",
   "execution_count": 21,
   "metadata": {},
   "outputs": [
    {
     "name": "stdout",
     "output_type": "stream",
     "text": [
      "Image with black squares saved to ./testOutputs/tryPapaya.jpg\n"
     ]
    }
   ],
   "source": [
    "image_path = \"./VegetableImages/test/Papaya/1400.jpg\"  \n",
    "output_path = \"./testOutputs/tryPapaya.jpg\" \n",
    "add_black_squares_to_image(image_path, output_path, max_percentage=5, num_squares=3)"
   ]
  },
  {
   "cell_type": "code",
   "execution_count": 8,
   "metadata": {},
   "outputs": [
    {
     "data": {
      "text/plain": [
       "(224, 224)"
      ]
     },
     "execution_count": 8,
     "metadata": {},
     "output_type": "execute_result"
    }
   ],
   "source": [
    "image = Image.open(image_path)\n",
    "image.size"
   ]
  },
  {
   "cell_type": "markdown",
   "metadata": {},
   "source": [
    "-----\n",
    "### Adding just one square in centre"
   ]
  },
  {
   "cell_type": "code",
   "execution_count": 9,
   "metadata": {},
   "outputs": [],
   "source": [
    "def add_max_black_square(image_path, output_path, max_percentage=10):\n",
    "    \"\"\"\n",
    "    Adding a single black square with the maximum allowable area based on max_percentage.\n",
    "\n",
    "    - image_path: Path to the input image.\n",
    "    - output_path: Path to save the output image.\n",
    "    - max_percentage: Maximum percentage of the image area covered by the square.\n",
    "    \"\"\"\n",
    "    # opening the image\n",
    "    image = Image.open(image_path)\n",
    "    draw = ImageDraw.Draw(image)\n",
    "    width, height = image.size\n",
    "    max_area = (width * height) * (max_percentage / 100)\n",
    "    \n",
    "    # calculating the side length of the square\n",
    "    side_length = int(max_area ** 0.5)\n",
    "    \n",
    "    # we determine the position to center the square in the image\n",
    "    x0 = (width - side_length) // 2\n",
    "    y0 = (height - side_length) // 2\n",
    "    x1 = x0 + side_length\n",
    "    y1 = y0 + side_length\n",
    "\n",
    "    # drawing the black square\n",
    "    draw.rectangle([x0, y0, x1, y1], fill=(0, 0, 0))\n",
    "\n",
    "    # saving the output image\n",
    "    image.save(output_path)\n",
    "    print(f\"Image with maximum black square saved to {output_path}\")\n",
    "\n",
    "\n"
   ]
  },
  {
   "cell_type": "code",
   "execution_count": 10,
   "metadata": {},
   "outputs": [
    {
     "name": "stdout",
     "output_type": "stream",
     "text": [
      "Image with maximum black square saved to ./testOutputs/try1MAX.jpg\n"
     ]
    }
   ],
   "source": [
    "image_path = \"./VegetableImages/test/Bean/0001.jpg\"  \n",
    "output_path = \"./testOutputs/try1MAX.jpg\"  \n",
    "add_max_black_square(image_path, output_path, max_percentage=10)"
   ]
  }
 ],
 "metadata": {
  "kernelspec": {
   "display_name": "Python 3",
   "language": "python",
   "name": "python3"
  },
  "language_info": {
   "codemirror_mode": {
    "name": "ipython",
    "version": 3
   },
   "file_extension": ".py",
   "mimetype": "text/x-python",
   "name": "python",
   "nbconvert_exporter": "python",
   "pygments_lexer": "ipython3",
   "version": "3.10.7"
  }
 },
 "nbformat": 4,
 "nbformat_minor": 2
}
